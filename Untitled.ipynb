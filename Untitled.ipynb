{
 "cells": [
  {
   "cell_type": "code",
   "execution_count": 2,
   "metadata": {},
   "outputs": [],
   "source": [
    "import numpy as np;"
   ]
  },
  {
   "cell_type": "code",
   "execution_count": 21,
   "metadata": {},
   "outputs": [],
   "source": [
    "\n",
    "\n",
    "r= 0.15/(np.power(10,9));\n",
    "# radius of the air molecule (m)\n",
    "P=100000; \n",
    "# atmospheric pressure (Pa)\n",
    "T=273; \n",
    "# temperature (Kelvin)\n",
    "M=28/(np.power(10,3)); \n",
    "# molecular mass considering Nitrogen molecule (kg)\n",
    "k=1.38/(np.power(10,23)); \n",
    "# Boltzmann constant (kg m^2 s^-2 K^-1)\n",
    "  \n",
    "R=8.314; \n",
    "\n",
    "# Universal gas constant (J mol^-1 K^-1)\n",
    "\n",
    "n=P/(k*T); \n",
    "# number density\n",
    "vrms=np.sqrt((3*R*T)/M); \n",
    "# root mean square velocity of Nitrogen molecule (m/s)\n",
    "sigma=np.pi*np.power((2*r),2);\n",
    "# collision cross section\n",
    "\n",
    "lam=1/(n*sigma); \n",
    "# approximate mean free path (m) \n",
    "l=(k*T)/(np.sqrt(2)*np.power((2*r),2)*P);  \n",
    "# mean free path (m)\n",
    "f=vrms/l \n",
    "# collision frequency (sec^-1)\n",
    "t=1/f \n",
    "# time between successive collisions (sec)"
   ]
  },
  {
   "cell_type": "code",
   "execution_count": 22,
   "metadata": {},
   "outputs": [
    {
     "data": {
      "text/plain": [
       "0.06649710480419363"
      ]
     },
     "execution_count": 22,
     "metadata": {},
     "output_type": "execute_result"
    }
   ],
   "source": [
    "lam"
   ]
  },
  {
   "cell_type": "code",
   "execution_count": 4,
   "metadata": {},
   "outputs": [
    {
     "name": "stdout",
     "output_type": "stream",
     "text": [
      "1000000000\n"
     ]
    }
   ],
   "source": [
    "print(np.power(10,9))"
   ]
  },
  {
   "cell_type": "code",
   "execution_count": 5,
   "metadata": {},
   "outputs": [
    {
     "data": {
      "text/plain": [
       "3.141592653589793"
      ]
     },
     "execution_count": 5,
     "metadata": {},
     "output_type": "execute_result"
    }
   ],
   "source": [
    "np.pi"
   ]
  },
  {
   "cell_type": "code",
   "execution_count": 6,
   "metadata": {},
   "outputs": [
    {
     "data": {
      "text/plain": [
       "1.4142135623730951"
      ]
     },
     "execution_count": 6,
     "metadata": {},
     "output_type": "execute_result"
    }
   ],
   "source": [
    "np.sqrt(2)"
   ]
  },
  {
   "cell_type": "code",
   "execution_count": null,
   "metadata": {},
   "outputs": [],
   "source": []
  }
 ],
 "metadata": {
  "kernelspec": {
   "display_name": "Python 3",
   "language": "python",
   "name": "python3"
  },
  "language_info": {
   "codemirror_mode": {
    "name": "ipython",
    "version": 3
   },
   "file_extension": ".py",
   "mimetype": "text/x-python",
   "name": "python",
   "nbconvert_exporter": "python",
   "pygments_lexer": "ipython3",
   "version": "3.7.6"
  }
 },
 "nbformat": 4,
 "nbformat_minor": 4
}
